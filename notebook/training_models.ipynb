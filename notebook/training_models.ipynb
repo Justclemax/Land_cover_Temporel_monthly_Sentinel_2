{
 "cells": [
  {
   "cell_type": "code",
   "id": "initial_id",
   "metadata": {
    "collapsed": true,
    "ExecuteTime": {
     "end_time": "2025-08-20T08:11:23.799104Z",
     "start_time": "2025-08-20T08:11:23.504493Z"
    }
   },
   "source": [
    "import numpy as np\n",
    "import pandas as pd"
   ],
   "outputs": [],
   "execution_count": 1
  },
  {
   "metadata": {
    "ExecuteTime": {
     "end_time": "2025-08-20T08:15:40.037432Z",
     "start_time": "2025-08-20T08:15:40.029963Z"
    }
   },
   "cell_type": "code",
   "source": "train_data = pd.read_csv('../data/all_points_s2.csv')",
   "id": "9e483e3461d7df37",
   "outputs": [],
   "execution_count": 5
  },
  {
   "metadata": {
    "ExecuteTime": {
     "end_time": "2025-08-20T08:15:42.206958Z",
     "start_time": "2025-08-20T08:15:42.201104Z"
    }
   },
   "cell_type": "code",
   "source": "train_data._data",
   "id": "c49a2ca5392be0ea",
   "outputs": [
    {
     "name": "stderr",
     "output_type": "stream",
     "text": [
      "/var/folders/l8/mx9jxmfs26g9mp3g0c91v78w0000gn/T/ipykernel_66287/2324421042.py:1: DeprecationWarning: DataFrame._data is deprecated and will be removed in a future version. Use public APIs instead.\n",
      "  train_data._data\n"
     ]
    },
    {
     "data": {
      "text/plain": [
       "BlockManager\n",
       "Items: Index(['B1', 'B11', 'B12', 'B2', 'B3', 'B4', 'B5', 'B6', 'B7', 'B8', 'B8A',\n",
       "       'B9', 'landcover', 'polygon_idx', 'month'],\n",
       "      dtype='object')\n",
       "Axis 1: RangeIndex(start=0, stop=363, step=1)\n",
       "NumpyBlock: slice(0, 12, 1), 12 x 363, dtype: float64\n",
       "NumpyBlock: slice(13, 14, 1), 1 x 363, dtype: int64\n",
       "NumpyBlock: slice(12, 16, 2), 2 x 363, dtype: object"
      ]
     },
     "execution_count": 6,
     "metadata": {},
     "output_type": "execute_result"
    }
   ],
   "execution_count": 6
  },
  {
   "metadata": {
    "ExecuteTime": {
     "end_time": "2025-08-20T08:11:59.481929Z",
     "start_time": "2025-08-20T08:11:59.467952Z"
    }
   },
   "cell_type": "code",
   "source": "train_data.head()",
   "id": "2dffc5ac37e6d37b",
   "outputs": [
    {
     "data": {
      "text/plain": [
       "         B1       B11       B12        B2        B3        B4        B5  \\\n",
       "0  0.404667  0.654667  0.532667  0.340667  0.446000  0.418667  0.639000   \n",
       "1  0.348167  0.673500  0.598333  0.267667  0.340667  0.361500  0.547333   \n",
       "2  0.388500  0.779000  0.668667  0.331000  0.396333  0.422333  0.661000   \n",
       "3  0.433333  0.883667  0.783333  0.376667  0.488667  0.499000  0.704667   \n",
       "4  0.425667  0.883000  0.724000  0.422667  0.465333  0.554333  0.788333   \n",
       "\n",
       "         B6        B7        B8       B8A        B9 landcover  polygon_idx  \\\n",
       "0  0.681000  0.596667  0.501333  0.634333  0.741333     urban            0   \n",
       "1  0.601500  0.644167  0.507167  0.607833  0.696833     urban            0   \n",
       "2  0.680500  0.736500  0.625500  0.725167  0.790333     urban            0   \n",
       "3  0.802000  0.829667  0.751333  0.898667  0.936333     urban            0   \n",
       "4  0.852667  0.797667  0.780333  0.930333  0.951667     urban            0   \n",
       "\n",
       "     month  \n",
       "0  2024-01  \n",
       "1  2024-02  \n",
       "2  2024-03  \n",
       "3  2024-04  \n",
       "4  2024-05  "
      ],
      "text/html": [
       "<div>\n",
       "<style scoped>\n",
       "    .dataframe tbody tr th:only-of-type {\n",
       "        vertical-align: middle;\n",
       "    }\n",
       "\n",
       "    .dataframe tbody tr th {\n",
       "        vertical-align: top;\n",
       "    }\n",
       "\n",
       "    .dataframe thead th {\n",
       "        text-align: right;\n",
       "    }\n",
       "</style>\n",
       "<table border=\"1\" class=\"dataframe\">\n",
       "  <thead>\n",
       "    <tr style=\"text-align: right;\">\n",
       "      <th></th>\n",
       "      <th>B1</th>\n",
       "      <th>B11</th>\n",
       "      <th>B12</th>\n",
       "      <th>B2</th>\n",
       "      <th>B3</th>\n",
       "      <th>B4</th>\n",
       "      <th>B5</th>\n",
       "      <th>B6</th>\n",
       "      <th>B7</th>\n",
       "      <th>B8</th>\n",
       "      <th>B8A</th>\n",
       "      <th>B9</th>\n",
       "      <th>landcover</th>\n",
       "      <th>polygon_idx</th>\n",
       "      <th>month</th>\n",
       "    </tr>\n",
       "  </thead>\n",
       "  <tbody>\n",
       "    <tr>\n",
       "      <th>0</th>\n",
       "      <td>0.404667</td>\n",
       "      <td>0.654667</td>\n",
       "      <td>0.532667</td>\n",
       "      <td>0.340667</td>\n",
       "      <td>0.446000</td>\n",
       "      <td>0.418667</td>\n",
       "      <td>0.639000</td>\n",
       "      <td>0.681000</td>\n",
       "      <td>0.596667</td>\n",
       "      <td>0.501333</td>\n",
       "      <td>0.634333</td>\n",
       "      <td>0.741333</td>\n",
       "      <td>urban</td>\n",
       "      <td>0</td>\n",
       "      <td>2024-01</td>\n",
       "    </tr>\n",
       "    <tr>\n",
       "      <th>1</th>\n",
       "      <td>0.348167</td>\n",
       "      <td>0.673500</td>\n",
       "      <td>0.598333</td>\n",
       "      <td>0.267667</td>\n",
       "      <td>0.340667</td>\n",
       "      <td>0.361500</td>\n",
       "      <td>0.547333</td>\n",
       "      <td>0.601500</td>\n",
       "      <td>0.644167</td>\n",
       "      <td>0.507167</td>\n",
       "      <td>0.607833</td>\n",
       "      <td>0.696833</td>\n",
       "      <td>urban</td>\n",
       "      <td>0</td>\n",
       "      <td>2024-02</td>\n",
       "    </tr>\n",
       "    <tr>\n",
       "      <th>2</th>\n",
       "      <td>0.388500</td>\n",
       "      <td>0.779000</td>\n",
       "      <td>0.668667</td>\n",
       "      <td>0.331000</td>\n",
       "      <td>0.396333</td>\n",
       "      <td>0.422333</td>\n",
       "      <td>0.661000</td>\n",
       "      <td>0.680500</td>\n",
       "      <td>0.736500</td>\n",
       "      <td>0.625500</td>\n",
       "      <td>0.725167</td>\n",
       "      <td>0.790333</td>\n",
       "      <td>urban</td>\n",
       "      <td>0</td>\n",
       "      <td>2024-03</td>\n",
       "    </tr>\n",
       "    <tr>\n",
       "      <th>3</th>\n",
       "      <td>0.433333</td>\n",
       "      <td>0.883667</td>\n",
       "      <td>0.783333</td>\n",
       "      <td>0.376667</td>\n",
       "      <td>0.488667</td>\n",
       "      <td>0.499000</td>\n",
       "      <td>0.704667</td>\n",
       "      <td>0.802000</td>\n",
       "      <td>0.829667</td>\n",
       "      <td>0.751333</td>\n",
       "      <td>0.898667</td>\n",
       "      <td>0.936333</td>\n",
       "      <td>urban</td>\n",
       "      <td>0</td>\n",
       "      <td>2024-04</td>\n",
       "    </tr>\n",
       "    <tr>\n",
       "      <th>4</th>\n",
       "      <td>0.425667</td>\n",
       "      <td>0.883000</td>\n",
       "      <td>0.724000</td>\n",
       "      <td>0.422667</td>\n",
       "      <td>0.465333</td>\n",
       "      <td>0.554333</td>\n",
       "      <td>0.788333</td>\n",
       "      <td>0.852667</td>\n",
       "      <td>0.797667</td>\n",
       "      <td>0.780333</td>\n",
       "      <td>0.930333</td>\n",
       "      <td>0.951667</td>\n",
       "      <td>urban</td>\n",
       "      <td>0</td>\n",
       "      <td>2024-05</td>\n",
       "    </tr>\n",
       "  </tbody>\n",
       "</table>\n",
       "</div>"
      ]
     },
     "execution_count": 4,
     "metadata": {},
     "output_type": "execute_result"
    }
   ],
   "execution_count": 4
  },
  {
   "metadata": {},
   "cell_type": "code",
   "outputs": [],
   "execution_count": null,
   "source": "",
   "id": "a00121eb149024db"
  }
 ],
 "metadata": {
  "kernelspec": {
   "display_name": "Python 3",
   "language": "python",
   "name": "python3"
  },
  "language_info": {
   "codemirror_mode": {
    "name": "ipython",
    "version": 2
   },
   "file_extension": ".py",
   "mimetype": "text/x-python",
   "name": "python",
   "nbconvert_exporter": "python",
   "pygments_lexer": "ipython2",
   "version": "2.7.6"
  }
 },
 "nbformat": 4,
 "nbformat_minor": 5
}
